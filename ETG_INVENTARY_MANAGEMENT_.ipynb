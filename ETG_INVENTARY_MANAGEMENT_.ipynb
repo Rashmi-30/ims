{
 "cells": [
  {
   "cell_type": "code",
   "execution_count": null,
   "metadata": {
    "id": "UJBNt_VBDmPc"
   },
   "outputs": [],
   "source": [
    "import json\n",
    "\n",
    "fd=open('record.json','r')\n",
    "r=fd.read()\n",
    "fd.close()\n",
    "\n",
    "record=json.loads(r)"
   ]
  },
  {
   "cell_type": "code",
   "execution_count": null,
   "metadata": {
    "colab": {
     "base_uri": "https://localhost:8080/"
    },
    "id": "v1m-aujBFezk",
    "outputId": "c8faffb5-b571-4200-c5c8-b8683f0bb49b"
   },
   "outputs": [
    {
     "name": "stdout",
     "output_type": "stream",
     "text": [
      "enter the product id:123481\n",
      "enter the icecream:Chikoo\n",
      "enter the amount:45\n",
      "enter the quantity:30\n",
      "enter the expiry date:5/9/21\n"
     ]
    }
   ],
   "source": [
    "prod_id=str (input('enter the product id:'))\n",
    "item=str (input('enter the icecream:'))\n",
    "amt=int (input('enter the amount:'))\n",
    "qty=int (input('enter the quantity:'))\n",
    "exp=str (input('enter the expiry date:'))\n",
    "\n",
    "record[prod_id]={'item':item,'amt':amt,'qty':qty,'exp':exp}\n",
    "\n",
    "js=json.dumps(record)\n",
    "\n",
    "fd=open(\"record.json\",'w')\n",
    "fd.write(js)\n",
    "fd.close()"
   ]
  },
  {
   "cell_type": "code",
   "execution_count": null,
   "metadata": {
    "colab": {
     "base_uri": "https://localhost:8080/"
    },
    "id": "2WWXz9BiHE-L",
    "outputId": "0bf2db8e-fa3f-4954-b7eb-815a10b83892"
   },
   "outputs": [
    {
     "data": {
      "text/plain": [
       "{'123456': {'amt': 25, 'exp': '4/9/21', 'item': 'vanila', 'qty': 30},\n",
       " '123457': {'amt': 30, 'exp': '4/9/21', 'item': 'strawberey', 'qty': 16},\n",
       " '123458': {'amt': 40, 'exp': '4/9/21', 'item': 'chocalate', 'qty': 30},\n",
       " '123459': {'amt': 40, 'exp': '4/9/21', 'item': 'pineapple', 'qty': 19},\n",
       " '123460': {'amt': 45, 'exp': '4/9/21', 'item': 'butterscotch', 'qty': 30},\n",
       " '123461': {'amt': 40, 'exp': '4/9/21', 'item': 'orangetang', 'qty': 30},\n",
       " '123462': {'amt': 50, 'exp': '4/9/21', 'item': 'bonanza', 'qty': 30},\n",
       " '123463': {'amt': 50, 'exp': '4/9/21', 'item': 'blackcurrent', 'qty': 30},\n",
       " '123464': {'amt': 50, 'exp': '4/9/21', 'item': 'pista', 'qty': 30},\n",
       " '123465': {'amt': 55, 'exp': '4/9/21', 'item': 'kesar malai', 'qty': 26},\n",
       " '123466': {'amt': 45, 'exp': '4/9/21', 'item': 'mango', 'qty': 17},\n",
       " '123467': {'amt': 45, 'exp': '4/9/21', 'item': 'mango candy', 'qty': 27},\n",
       " '123468': {'amt': 45, 'exp': '4/9/21', 'item': 'strawberey candy', 'qty': 28},\n",
       " '123469': {'amt': 45, 'exp': '4/9/21', 'item': 'orange candy', 'qty': 30},\n",
       " '123470': {'amt': 45, 'exp': '4/9/21', 'item': 'gadbhad', 'qty': 30},\n",
       " '123471': {'amt': 45, 'exp': '4/9/21', 'item': 'kasata', 'qty': 30},\n",
       " '123472': {'amt': 45, 'exp': '4/9/21', 'item': 'blueberrey', 'qty': 30},\n",
       " '123473': {'amt': 45, 'exp': '4/9/21', 'item': 'chocochip', 'qty': 30},\n",
       " '123474': {'amt': 45, 'exp': '4/9/21', 'item': 'chocobar', 'qty': 30},\n",
       " '123475': {'amt': 45, 'exp': '4/9/21', 'item': 'kesar pista', 'qty': 30},\n",
       " '123476': {'amt': 20, 'exp': '5/9/21', 'item': 'kulfi', 'qty': 25},\n",
       " '123477': {'amt': 35, 'exp': '5/9/21', 'item': 'double scope', 'qty': 30},\n",
       " '123478': {'amt': 65, 'exp': '5/9/21', 'item': 'choco nuts', 'qty': 30},\n",
       " '123479': {'amt': 15, 'exp': '5/9/21', 'item': 'mini cup vanila', 'qty': 27},\n",
       " '123480': {'amt': 45, 'exp': '5/9/21', 'item': 'nutilla', 'qty': 25},\n",
       " '123481': {'amt': 45, 'exp': '5/9/21', 'item': 'Chikoo', 'qty': 30}}"
      ]
     },
     "execution_count": 146,
     "metadata": {},
     "output_type": "execute_result"
    }
   ],
   "source": [
    "record"
   ]
  },
  {
   "cell_type": "code",
   "execution_count": null,
   "metadata": {
    "id": "A9d9Mzv8a3Dc"
   },
   "outputs": [],
   "source": [
    "##billing##"
   ]
  },
  {
   "cell_type": "code",
   "execution_count": null,
   "metadata": {
    "colab": {
     "base_uri": "https://localhost:8080/"
    },
    "id": "4XLX76CscPMd",
    "outputId": "1f6e29ba-7125-40fe-ff36-c297e35c383e"
   },
   "outputs": [
    {
     "name": "stdout",
     "output_type": "stream",
     "text": [
      "date and time:\n",
      "2021-09-05  09:34:12\n",
      "*****************************\n",
      "##### ICE CREAM PARLOUR #####\n",
      "enter the product id:123481\n",
      "enter the quantity:3\n",
      "icecream: Chikoo\n",
      "amount: 45\n",
      "------------------------------\n",
      "TOTAL AMOUNT: rs 135\n",
      "------------------------------\n"
     ]
    }
   ],
   "source": [
    "import datetime\n",
    "now=datetime.datetime.now()\n",
    "print('date and time:')\n",
    "print(now.strftime('%Y-%m-%d  %H:%M:%S'))\n",
    "\n",
    "print('*****************************')\n",
    "\n",
    "print('##### ICE CREAM PARLOUR #####')\n",
    "\n",
    "prodid = str (input(\"enter the product id:\"))\n",
    "prodqty= int (input(\"enter the quantity:\"))\n",
    "\n",
    "print('icecream:',record[prodid]['item'])\n",
    "print('amount:',record[prodid]['amt'])\n",
    "\n",
    "print(\"------------------------------\")\n",
    "print(\"TOTAL AMOUNT: rs\", record[prodid]['amt']*prodqty)\n",
    "print('------------------------------')\n",
    "\n",
    "record[prodid]['qty']=record[prodid]['qty']-prodqty"
   ]
  },
  {
   "cell_type": "code",
   "execution_count": null,
   "metadata": {
    "colab": {
     "base_uri": "https://localhost:8080/"
    },
    "id": "gGuLYRfGMQRn",
    "outputId": "d7698247-4c49-4d6f-f814-4a720e64e7c4"
   },
   "outputs": [
    {
     "data": {
      "text/plain": [
       "{'123456': {'amt': 25, 'exp': '4/9/21', 'item': 'vanila', 'qty': 30},\n",
       " '123457': {'amt': 30, 'exp': '4/9/21', 'item': 'strawberey', 'qty': 16},\n",
       " '123458': {'amt': 40, 'exp': '4/9/21', 'item': 'chocalate', 'qty': 30},\n",
       " '123459': {'amt': 40, 'exp': '4/9/21', 'item': 'pineapple', 'qty': 19},\n",
       " '123460': {'amt': 45, 'exp': '4/9/21', 'item': 'butterscotch', 'qty': 30},\n",
       " '123461': {'amt': 40, 'exp': '4/9/21', 'item': 'orangetang', 'qty': 30},\n",
       " '123462': {'amt': 50, 'exp': '4/9/21', 'item': 'bonanza', 'qty': 30},\n",
       " '123463': {'amt': 50, 'exp': '4/9/21', 'item': 'blackcurrent', 'qty': 30},\n",
       " '123464': {'amt': 50, 'exp': '4/9/21', 'item': 'pista', 'qty': 30},\n",
       " '123465': {'amt': 55, 'exp': '4/9/21', 'item': 'kesar malai', 'qty': 26},\n",
       " '123466': {'amt': 45, 'exp': '4/9/21', 'item': 'mango', 'qty': 17},\n",
       " '123467': {'amt': 45, 'exp': '4/9/21', 'item': 'mango candy', 'qty': 27},\n",
       " '123468': {'amt': 45, 'exp': '4/9/21', 'item': 'strawberey candy', 'qty': 28},\n",
       " '123469': {'amt': 45, 'exp': '4/9/21', 'item': 'orange candy', 'qty': 30},\n",
       " '123470': {'amt': 45, 'exp': '4/9/21', 'item': 'gadbhad', 'qty': 30},\n",
       " '123471': {'amt': 45, 'exp': '4/9/21', 'item': 'kasata', 'qty': 30},\n",
       " '123472': {'amt': 45, 'exp': '4/9/21', 'item': 'blueberrey', 'qty': 30},\n",
       " '123473': {'amt': 45, 'exp': '4/9/21', 'item': 'chocochip', 'qty': 30},\n",
       " '123474': {'amt': 45, 'exp': '4/9/21', 'item': 'chocobar', 'qty': 30},\n",
       " '123475': {'amt': 45, 'exp': '4/9/21', 'item': 'kesar pista', 'qty': 30},\n",
       " '123476': {'amt': 20, 'exp': '5/9/21', 'item': 'kulfi', 'qty': 25},\n",
       " '123477': {'amt': 35, 'exp': '5/9/21', 'item': 'double scope', 'qty': 30},\n",
       " '123478': {'amt': 65, 'exp': '5/9/21', 'item': 'choco nuts', 'qty': 30},\n",
       " '123479': {'amt': 15, 'exp': '5/9/21', 'item': 'mini cup vanila', 'qty': 27},\n",
       " '123480': {'amt': 45, 'exp': '5/9/21', 'item': 'nutilla', 'qty': 25},\n",
       " '123481': {'amt': 45, 'exp': '5/9/21', 'item': 'Chikoo', 'qty': 27}}"
      ]
     },
     "execution_count": 148,
     "metadata": {},
     "output_type": "execute_result"
    }
   ],
   "source": [
    "record"
   ]
  },
  {
   "cell_type": "code",
   "execution_count": null,
   "metadata": {
    "id": "ALqeH-r6r0f6"
   },
   "outputs": [],
   "source": [
    "js=json.dumps(record)\n",
    "\n",
    "fd= open('record.json','w')\n",
    "fd.write(js)\n",
    "fd.close()\n"
   ]
  },
  {
   "cell_type": "code",
   "execution_count": null,
   "metadata": {
    "id": "JGkC5SDIDo7s"
   },
   "outputs": [],
   "source": [
    "\n",
    "fd=open('sales.json','r')\n",
    "r=fd.read()\n",
    "fd.close()\n",
    "\n",
    "sales=json.loads(r)\n",
    "\n",
    "\n",
    "sales[prodid]={'prod':prodid,'qty':prodqty,'amt':record[prodid]['amt']*prodqty}\n",
    "\n",
    "js=json.dumps(sales)\n",
    "\n",
    "fd=open(\"sales.json\",'w')\n",
    "fd.write(js)\n",
    "fd.close()"
   ]
  },
  {
   "cell_type": "code",
   "execution_count": null,
   "metadata": {
    "colab": {
     "base_uri": "https://localhost:8080/"
    },
    "id": "jdhnp0KnTU_H",
    "outputId": "c104d296-f78e-43be-bb98-e07f1bfd3ae7"
   },
   "outputs": [
    {
     "data": {
      "text/plain": [
       "{'123457': {'amt': 210, 'prod': '123457', 'qty': 7},\n",
       " '123459': {'amt': 120, 'prod': '123459', 'qty': 3},\n",
       " '123465': {'amt': 220, 'prod': '123465', 'qty': 4},\n",
       " '123466': {'amt': 450, 'prod': '123466', 'qty': 10},\n",
       " '123468': {'amt': 90, 'prod': '123468', 'qty': 2},\n",
       " '123476': {'amt': 100, 'prod': '123476', 'qty': 5},\n",
       " '123479': {'amt': 45, 'prod': '123479', 'qty': 3},\n",
       " '123480': {'amt': 225, 'prod': '123480', 'qty': 5},\n",
       " '123481': {'amt': 135, 'prod': '123481', 'qty': 3},\n",
       " 'amt': 220,\n",
       " 'prod': '123465',\n",
       " 'qty': 4}"
      ]
     },
     "execution_count": 151,
     "metadata": {},
     "output_type": "execute_result"
    }
   ],
   "source": [
    "sales\n"
   ]
  },
  {
   "cell_type": "code",
   "execution_count": null,
   "metadata": {
    "id": "pgIJ8yl96sjf"
   },
   "outputs": [],
   "source": []
  }
 ],
 "metadata": {
  "colab": {
   "collapsed_sections": [],
   "name": "ETG INVENTARY MANAGEMENT .ipynb",
   "provenance": []
  },
  "kernelspec": {
   "display_name": "Python 3",
   "language": "python",
   "name": "python3"
  },
  "language_info": {
   "codemirror_mode": {
    "name": "ipython",
    "version": 3
   },
   "file_extension": ".py",
   "mimetype": "text/x-python",
   "name": "python",
   "nbconvert_exporter": "python",
   "pygments_lexer": "ipython3",
   "version": "3.8.8"
  }
 },
 "nbformat": 4,
 "nbformat_minor": 1
}
